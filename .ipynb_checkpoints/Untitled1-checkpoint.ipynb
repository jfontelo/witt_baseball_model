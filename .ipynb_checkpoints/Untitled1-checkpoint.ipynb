{
 "cells": [
  {
   "cell_type": "code",
   "execution_count": 1,
   "id": "bcc3927d-52fc-4b24-aed7-f21000525b7e",
   "metadata": {},
   "outputs": [],
   "source": [
    "def get_witt_stats():\n",
    "    witt_id = 677951\n",
    "    url = f\"https://statsapi.mlb.com/api/v1/people/{witt_id}/stats\"\n",
    "    params = {\"stats\": \"career\", \"group\": \"hitting\"}\n",
    "    response = requests.get(url, params=params).json()\n",
    "\n",
    "    # Print the response to understand its structure\n",
    "    print(\"🔍 API Response Structure:\", response)\n",
    "\n",
    "    return pd.DataFrame()  # Temporary return statement"
   ]
  },
  {
   "cell_type": "code",
   "execution_count": 2,
   "id": "ad0c3f32-f9ab-4b3d-9ddf-52222e9dcfc9",
   "metadata": {},
   "outputs": [
    {
     "name": "stdout",
     "output_type": "stream",
     "text": [
      "✅ Database connection successful!\n"
     ]
    }
   ],
   "source": [
    "import pandas as pd\n",
    "from sqlalchemy import create_engine, text\n",
    "from config import DATABASE_URL  # Ensure this points to Render\n",
    "\n",
    "# Create database connection\n",
    "engine = create_engine(DATABASE_URL)\n",
    "\n",
    "# Check if the database is accessible\n",
    "try:\n",
    "    with engine.connect() as conn:\n",
    "        result = conn.execute(text(\"SELECT 1\"))\n",
    "        print(\"✅ Database connection successful!\")\n",
    "except Exception as e:\n",
    "    print(\"❌ Database connection failed:\", e)"
   ]
  },
  {
   "cell_type": "code",
   "execution_count": null,
   "id": "d2f94fef-1518-45dc-9310-c2e74cd527c9",
   "metadata": {},
   "outputs": [],
   "source": []
  }
 ],
 "metadata": {
  "kernelspec": {
   "display_name": "Python 3 (ipykernel)",
   "language": "python",
   "name": "python3"
  },
  "language_info": {
   "codemirror_mode": {
    "name": "ipython",
    "version": 3
   },
   "file_extension": ".py",
   "mimetype": "text/x-python",
   "name": "python",
   "nbconvert_exporter": "python",
   "pygments_lexer": "ipython3",
   "version": "3.13.2"
  }
 },
 "nbformat": 4,
 "nbformat_minor": 5
}
