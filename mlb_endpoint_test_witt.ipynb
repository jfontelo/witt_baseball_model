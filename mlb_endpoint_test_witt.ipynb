{
 "cells": [
  {
   "cell_type": "code",
   "execution_count": 1,
   "id": "b4a42448-d8fa-4c21-94d5-48d0cbb4b914",
   "metadata": {},
   "outputs": [
    {
     "name": "stdout",
     "output_type": "stream",
     "text": [
      "🔍 Player ID Response: {'copyright': 'Copyright 2025 MLB Advanced Media, L.P.  Use of any content on this page acknowledges agreement to the terms posted here http://gdx.mlb.com/components/copyright.txt', 'people': [{'id': 677951, 'fullName': 'Bobby Witt Jr.', 'link': '/api/v1/people/677951', 'firstName': 'Robert', 'lastName': 'Witt', 'primaryNumber': '7', 'birthDate': '2000-06-14', 'currentAge': 24, 'birthCity': 'Colleyville', 'birthStateProvince': 'TX', 'birthCountry': 'USA', 'height': '6\\' 1\"', 'weight': 200, 'active': True, 'primaryPosition': {'code': '6', 'name': 'Shortstop', 'type': 'Infielder', 'abbreviation': 'SS'}, 'useName': 'Bobby', 'useLastName': 'Witt Jr.', 'middleName': 'Andrew', 'boxscoreName': 'Witt Jr.', 'gender': 'M', 'isPlayer': True, 'isVerified': True, 'draftYear': 2019, 'mlbDebutDate': '2022-04-07', 'batSide': {'code': 'R', 'description': 'Right'}, 'pitchHand': {'code': 'R', 'description': 'Right'}, 'nameFirstLast': 'Bobby Witt Jr.', 'nameTitle': 'Jr.', 'nameSuffix': 'Jr.', 'nameSlug': 'bobby-witt-jr-677951', 'firstLastName': 'Bobby Witt Jr.', 'lastFirstName': 'Witt Jr., Bobby', 'lastInitName': 'Witt Jr., B', 'initLastName': 'B Witt Jr.', 'fullFMLName': 'Robert Andrew Witt Jr.', 'fullLFMName': 'Witt Jr., Robert Andrew', 'strikeZoneTop': 3.47, 'strikeZoneBottom': 1.61}]}\n"
     ]
    }
   ],
   "source": [
    "import requests\n",
    "\n",
    "witt_id = 677951\n",
    "url = f\"https://statsapi.mlb.com/api/v1/people/{witt_id}\"\n",
    "response = requests.get(url).json()\n",
    "\n",
    "print(\"🔍 Player ID Response:\", response)  # Inspect the response"
   ]
  },
  {
   "cell_type": "code",
   "execution_count": 2,
   "id": "8ed2888f-8456-4dc3-9e00-766cd9a91929",
   "metadata": {},
   "outputs": [
    {
     "name": "stdout",
     "output_type": "stream",
     "text": [
      "🔍 Player Stats Response: {'copyright': 'Copyright 2025 MLB Advanced Media, L.P.  Use of any content on this page acknowledges agreement to the terms posted here http://gdx.mlb.com/components/copyright.txt', 'stats': [{'type': {'displayName': 'season'}, 'group': {'displayName': 'hitting'}, 'exemptions': [], 'splits': [{'season': '2023', 'stat': {'gamesPlayed': 158, 'groundOuts': 143, 'airOuts': 209, 'runs': 97, 'doubles': 28, 'triples': 11, 'homeRuns': 30, 'strikeOuts': 121, 'baseOnBalls': 40, 'intentionalWalks': 1, 'hits': 177, 'hitByPitch': 4, 'avg': '.276', 'atBats': 641, 'obp': '.319', 'slg': '.495', 'ops': '.814', 'caughtStealing': 15, 'stolenBases': 49, 'stolenBasePercentage': '.766', 'groundIntoDoublePlay': 11, 'numberOfPitches': 2701, 'plateAppearances': 694, 'totalBases': 317, 'rbi': 96, 'leftOnBase': 227, 'sacBunts': 1, 'sacFlies': 8, 'babip': '.295', 'groundOutsToAirouts': '0.68', 'catchersInterference': 0, 'atBatsPerHomeRun': '21.37'}, 'team': {'id': 118, 'name': 'Kansas City Royals', 'link': '/api/v1/teams/118'}, 'player': {'id': 677951, 'fullName': 'Bobby Witt Jr.', 'link': '/api/v1/people/677951'}, 'league': {'id': 103, 'name': 'American League', 'link': '/api/v1/league/103'}, 'sport': {'id': 1, 'link': '/api/v1/sports/1', 'abbreviation': 'MLB'}, 'gameType': 'R'}]}]}\n"
     ]
    }
   ],
   "source": [
    "import requests\n",
    "\n",
    "url = \"https://statsapi.mlb.com/api/v1/people/677951/stats?stats=season&group=hitting&season=2023\"\n",
    "response = requests.get(url).json()\n",
    "\n",
    "print(\"🔍 Player Stats Response:\", response)  # Inspect the raw JSON response"
   ]
  },
  {
   "cell_type": "code",
   "execution_count": 3,
   "id": "c6615c88-34d0-42ce-94f6-355cca0d57bb",
   "metadata": {},
   "outputs": [
    {
     "name": "stdout",
     "output_type": "stream",
     "text": [
      "{\n",
      "    \"copyright\": \"Copyright 2025 MLB Advanced Media, L.P.  Use of any content on this page acknowledges agreement to the terms posted here http://gdx.mlb.com/components/copyright.txt\",\n",
      "    \"stats\": [\n",
      "        {\n",
      "            \"type\": {\n",
      "                \"displayName\": \"season\"\n",
      "            },\n",
      "            \"group\": {\n",
      "                \"displayName\": \"hitting\"\n",
      "            },\n",
      "            \"exemptions\": [],\n",
      "            \"splits\": [\n",
      "                {\n",
      "                    \"season\": \"2023\",\n",
      "                    \"stat\": {\n",
      "                        \"gamesPlayed\": 158,\n",
      "                        \"groundOuts\": 143,\n",
      "                        \"airOuts\": 209,\n",
      "                        \"runs\": 97,\n",
      "                        \"doubles\": 28,\n",
      "                        \"triples\": 11,\n",
      "                        \"homeRuns\": 30,\n",
      "                        \"strikeOuts\": 121,\n",
      "                        \"baseOnBalls\": 40,\n",
      "                        \"intentionalWalks\": 1,\n",
      "                        \"hits\": 177,\n",
      "                        \"hitByPitch\": 4,\n",
      "                        \"avg\": \".276\",\n",
      "                        \"atBats\": 641,\n",
      "                        \"obp\": \".319\",\n",
      "                        \"slg\": \".495\",\n",
      "                        \"ops\": \".814\",\n",
      "                        \"caughtStealing\": 15,\n",
      "                        \"stolenBases\": 49,\n",
      "                        \"stolenBasePercentage\": \".766\",\n",
      "                        \"groundIntoDoublePlay\": 11,\n",
      "                        \"numberOfPitches\": 2701,\n",
      "                        \"plateAppearances\": 694,\n",
      "                        \"totalBases\": 317,\n",
      "                        \"rbi\": 96,\n",
      "                        \"leftOnBase\": 227,\n",
      "                        \"sacBunts\": 1,\n",
      "                        \"sacFlies\": 8,\n",
      "                        \"babip\": \".295\",\n",
      "                        \"groundOutsToAirouts\": \"0.68\",\n",
      "                        \"catchersInterference\": 0,\n",
      "                        \"atBatsPerHomeRun\": \"21.37\"\n",
      "                    },\n",
      "                    \"team\": {\n",
      "                        \"id\": 118,\n",
      "                        \"name\": \"Kansas City Royals\",\n",
      "                        \"link\": \"/api/v1/teams/118\"\n",
      "                    },\n",
      "                    \"player\": {\n",
      "                        \"id\": 677951,\n",
      "                        \"fullName\": \"Bobby Witt Jr.\",\n",
      "                        \"link\": \"/api/v1/people/677951\"\n",
      "                    },\n",
      "                    \"league\": {\n",
      "                        \"id\": 103,\n",
      "                        \"name\": \"American League\",\n",
      "                        \"link\": \"/api/v1/league/103\"\n",
      "                    },\n",
      "                    \"sport\": {\n",
      "                        \"id\": 1,\n",
      "                        \"link\": \"/api/v1/sports/1\",\n",
      "                        \"abbreviation\": \"MLB\"\n",
      "                    },\n",
      "                    \"gameType\": \"R\"\n",
      "                }\n",
      "            ]\n",
      "        }\n",
      "    ]\n",
      "}\n"
     ]
    }
   ],
   "source": [
    "import json\n",
    "\n",
    "# Pretty-print the API response\n",
    "print(json.dumps(response, indent=4))"
   ]
  },
  {
   "cell_type": "code",
   "execution_count": null,
   "id": "76f35e27-ae0a-43d4-a72b-d479e6975e47",
   "metadata": {},
   "outputs": [],
   "source": []
  }
 ],
 "metadata": {
  "kernelspec": {
   "display_name": "Python 3 (ipykernel)",
   "language": "python",
   "name": "python3"
  },
  "language_info": {
   "codemirror_mode": {
    "name": "ipython",
    "version": 3
   },
   "file_extension": ".py",
   "mimetype": "text/x-python",
   "name": "python",
   "nbconvert_exporter": "python",
   "pygments_lexer": "ipython3",
   "version": "3.13.2"
  }
 },
 "nbformat": 4,
 "nbformat_minor": 5
}
